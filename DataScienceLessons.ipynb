{
  "nbformat": 4,
  "nbformat_minor": 0,
  "metadata": {
    "colab": {
      "provenance": [],
      "authorship_tag": "ABX9TyOYYbj7X6aoZYhxuuJM2vzZ",
      "include_colab_link": true
    },
    "kernelspec": {
      "name": "python3",
      "display_name": "Python 3"
    },
    "language_info": {
      "name": "python"
    }
  },
  "cells": [
    {
      "cell_type": "markdown",
      "metadata": {
        "id": "view-in-github",
        "colab_type": "text"
      },
      "source": [
        "<a href=\"https://colab.research.google.com/github/sk-panigrahi-559/DataScienceNotes/blob/main/DataScienceLessons.ipynb\" target=\"_parent\"><img src=\"https://colab.research.google.com/assets/colab-badge.svg\" alt=\"Open In Colab\"/></a>"
      ]
    },
    {
      "cell_type": "markdown",
      "source": [
        "<h1>Notes from - Data Science from Scratch</h1>\n",
        "<h2>Introduction - Data Scientist at \"Data Sciencester\"</h2>\n",
        "DataSciencester is a social network for data scientists. And the author wants us to pretend that we are hired by the company."
      ],
      "metadata": {
        "id": "7RL6D9GFq9lr"
      }
    },
    {
      "cell_type": "markdown",
      "source": [
        "the following is a list of users with their user ID and names. And the next one is a list of friends connections."
      ],
      "metadata": {
        "id": "NJji01TIr9op"
      }
    },
    {
      "cell_type": "code",
      "execution_count": null,
      "metadata": {
        "id": "Lcbq4n0U8d1P"
      },
      "outputs": [],
      "source": [
        "users = [\n",
        "{ \"id\": 0, \"name\": \"Hero\" },\n",
        "{ \"id\": 1, \"name\": \"Dunn\" },\n",
        "{ \"id\": 2, \"name\": \"Sue\" },\n",
        "{ \"id\": 3, \"name\": \"Chi\" },\n",
        "{ \"id\": 4, \"name\": \"Thor\" },\n",
        "{ \"id\": 5, \"name\": \"Clive\" },\n",
        "{ \"id\": 6, \"name\": \"Hicks\" },\n",
        "{ \"id\": 7, \"name\": \"Devin\" },\n",
        "{ \"id\": 8, \"name\": \"Kate\" },\n",
        "{ \"id\": 9, \"name\": \"Klein\" }\n",
        "]"
      ]
    },
    {
      "cell_type": "code",
      "source": [
        "friendship_pairs = [(0, 1), (0, 2), (1, 2), (1, 3), (2, 3), (3, 4),\n",
        "(4, 5), (5, 6), (5, 7), (6, 8), (7, 8), (8, 9)]"
      ],
      "metadata": {
        "id": "FgxL8shOsPoL"
      },
      "execution_count": null,
      "outputs": []
    },
    {
      "cell_type": "markdown",
      "source": [
        "This is not a very easy to handle the connections this way. So we decided to prepare a list.\n",
        "\n",
        "*This is the point in the book I realised I have to get used to the one liners..."
      ],
      "metadata": {
        "id": "vfPz501msSnI"
      }
    },
    {
      "cell_type": "code",
      "source": [
        "# Initializing the dictionary\n",
        "friendships = {user[\"id\"]:[] for user in users}\n",
        "# In the book the above one liner is used one can also do:\n",
        "# friendships ={}\n",
        "# for user in users:\n",
        "#   friendships[user[\"id\"]] = []\n",
        "\n",
        "for i, j in friendship_pairs:\n",
        "  friendships[i].append(j)\n",
        "  friendships[j].append(i)\n",
        "\n",
        "# Now we have all the friendship connection in a dictionary\n"
      ],
      "metadata": {
        "id": "2k3Yv2vdsork"
      },
      "execution_count": null,
      "outputs": []
    },
    {
      "cell_type": "markdown",
      "source": [
        "Now since we have this dictionary we can do a lot of things with it; Ex:"
      ],
      "metadata": {
        "id": "8VD67WEPubPi"
      }
    },
    {
      "cell_type": "code",
      "source": [
        "# No. of friends a user has\n",
        "def number_of_friends(user):\n",
        "  user_id = user[\"id\"]\n",
        "  friend_ids = friendships[user_id]\n",
        "  return len(friend_ids)\n",
        "\n",
        "# Total no. of connections\n",
        "total_connections = sum(number_of_friends(user) for user in users)\n",
        "\n",
        "# Average number of connections\n",
        "avg_connections = total_connections / len(users)\n",
        "\n",
        "# Also most connected people - largest number of friends"
      ],
      "metadata": {
        "id": "YnIIm0_Jub1j"
      },
      "execution_count": null,
      "outputs": []
    },
    {
      "cell_type": "markdown",
      "source": [
        "Now Just like facebook, we want the users to know the friends of their friends; so we write the followig code to know that."
      ],
      "metadata": {
        "id": "ea3lPJi9x5CU"
      }
    },
    {
      "cell_type": "code",
      "source": [
        "def foaf_ids(user):\n",
        "  return [foaf_id for friend_id in friendships[user[\"id\"]] for foaf_id in friendships[friend_id]]"
      ],
      "metadata": {
        "id": "eAPVqkKqyKLI"
      },
      "execution_count": null,
      "outputs": []
    },
    {
      "cell_type": "markdown",
      "source": [
        "but if we try to get it for the users[0] what do we see?"
      ],
      "metadata": {
        "id": "vCmoMeudzHGM"
      }
    },
    {
      "cell_type": "code",
      "source": [
        "foaf_ids(users[0])"
      ],
      "metadata": {
        "colab": {
          "base_uri": "https://localhost:8080/"
        },
        "id": "zEeVTYLvzN4v",
        "outputId": "8a6d1e62-08a5-4df8-a1d2-a306fbbc7985"
      },
      "execution_count": null,
      "outputs": [
        {
          "output_type": "execute_result",
          "data": {
            "text/plain": [
              "[0, 2, 3, 0, 1, 3]"
            ]
          },
          "metadata": {},
          "execution_count": 8
        }
      ]
    },
    {
      "cell_type": "markdown",
      "source": [
        "Redundant entries and also it includes 1 and 2 which are already friends of 0. which doesn't look so usefull of a data.\n",
        "\n",
        "Abetter code will be:"
      ],
      "metadata": {
        "id": "b8JtIgIezXoS"
      }
    },
    {
      "cell_type": "code",
      "source": [
        "# so first we want to create a code for mutual friends\n",
        "from collections import Counter\n",
        "\n",
        "def friends_of_friends(user):\n",
        "  user_id = user[\"id\"]\n",
        "  return Counter(\n",
        "      foaf_id\n",
        "      for friend_id in friendships[user_id]\n",
        "      for foaf_id in friendships[friend_id]\n",
        "      if foaf_id != user_id and foaf_id not in friendships[user_id]\n",
        "  )\n",
        "\n",
        "print(friends_of_friends(users[3]))"
      ],
      "metadata": {
        "colab": {
          "base_uri": "https://localhost:8080/"
        },
        "id": "xyFQwpjXzvHm",
        "outputId": "21776216-b65e-4420-fa23-e4e42cd75019"
      },
      "execution_count": null,
      "outputs": [
        {
          "output_type": "stream",
          "name": "stdout",
          "text": [
            "Counter({0: 2, 5: 1})\n"
          ]
        }
      ]
    },
    {
      "cell_type": "markdown",
      "source": [
        "This clearly says that 3 has two mutual friends with 0 and one mututal friend with 5."
      ],
      "metadata": {
        "id": "QFLaA38A1YBe"
      }
    },
    {
      "cell_type": "code",
      "source": [],
      "metadata": {
        "id": "PA1_bCO98pMs"
      },
      "execution_count": null,
      "outputs": []
    },
    {
      "cell_type": "markdown",
      "source": [
        "Now we are interested to know interests of the users so that we can suggest connection between people with similar interests. Let's say following is a list of interests of the users."
      ],
      "metadata": {
        "id": "oZoJx23Q8on6"
      }
    },
    {
      "cell_type": "code",
      "source": [
        "interests = [\n",
        "(0, \"Hadoop\"), (0, \"Big Data\"), (0, \"HBase\"), (0, \"Java\"),\n",
        "(0, \"Spark\"), (0, \"Storm\"), (0, \"Cassandra\"),\n",
        "(1, \"NoSQL\"), (1, \"MongoDB\"), (1, \"Cassandra\"), (1, \"HBase\"),\n",
        "(1, \"Postgres\"), (2, \"Python\"), (2, \"scikit-learn\"), (2, \"scipy\"),\n",
        "(2, \"numpy\"), (2, \"statsmodels\"), (2, \"pandas\"), (3, \"R\"), (3, \"Python\"),\n",
        "(3, \"statistics\"), (3, \"regression\"), (3, \"probability\"),\n",
        "(4, \"machine learning\"), (4, \"regression\"), (4, \"decision trees\"),\n",
        "(4, \"libsvm\"), (5, \"Python\"), (5, \"R\"), (5, \"Java\"), (5, \"C++\"),\n",
        "(5, \"Haskell\"), (5, \"programming languages\"), (6, \"statistics\"),\n",
        "(6, \"probability\"), (6, \"mathematics\"), (6, \"theory\"),\n",
        "(7, \"machine learning\"), (7, \"scikit-learn\"), (7, \"Mahout\"),\n",
        "(7, \"neural networks\"), (8, \"neural networks\"), (8, \"deep learning\"),\n",
        "(8, \"Big Data\"), (8, \"artificial intelligence\"), (9, \"Hadoop\"),\n",
        "(9, \"Java\"), (9, \"MapReduce\"), (9, \"Big Data\")\n",
        "]"
      ],
      "metadata": {
        "id": "vAxJN0w61pue"
      },
      "execution_count": null,
      "outputs": []
    },
    {
      "cell_type": "markdown",
      "source": [
        "now we create a function to find out people with same interests"
      ],
      "metadata": {
        "id": "0m41Vput9WZG"
      }
    },
    {
      "cell_type": "code",
      "source": [
        "def data_scientists_who_like(target_interest):\n",
        "  \"\"\"Find the ids of all users who like the target interest.\"\"\"\n",
        "  return [user_id\n",
        "    for user_id, user_interest in interests\n",
        "    if user_interest == target_interest]"
      ],
      "metadata": {
        "id": "igvyMogx9VMF"
      },
      "execution_count": null,
      "outputs": []
    },
    {
      "cell_type": "markdown",
      "source": [
        "This works, but it has to examine the whole list of interests for every\n",
        "search. If we have a lot of users and interests (or if we just want to do a lot\n",
        "of searches), we’re probably better off building an index from interests to\n",
        "users:"
      ],
      "metadata": {
        "id": "_EJBcn9W-Ccr"
      }
    },
    {
      "cell_type": "code",
      "source": [
        "from collections import defaultdict\n",
        "\n",
        "# Keys are interests, values are lists of user_ids with that interest\n",
        "user_ids_by_interest = defaultdict(list)\n",
        "for user_id, interest in interests:\n",
        "  user_ids_by_interest[interest].append(user_id)\n",
        "\n",
        "# Keys are user_ids, values are lists of interests for that user_id.\n",
        "interests_by_user_id = defaultdict(list)\n",
        "for user_id, interest in interests:\n",
        "  interests_by_user_id[user_id].append(interest)\n",
        "\n",
        "# and hence find the people with highest common interests\n",
        "def most_common_interests_with(user):\n",
        "  return Counter(\n",
        "    interested_user_id\n",
        "    for interest in interests_by_user_id[user[\"id\"]]\n",
        "    for interested_user_id in user_ids_by_interest[interest]\n",
        "    if interested_user_id != user[\"id\"]\n",
        "  )"
      ],
      "metadata": {
        "id": "6iJXpnCa-FBK"
      },
      "execution_count": null,
      "outputs": []
    },
    {
      "cell_type": "markdown",
      "source": [
        "---\n",
        "<h2>* Some Python things till now that I didn't know</h2>\n",
        "\n"
      ],
      "metadata": {
        "id": "s5nfyZ6qGgVF"
      }
    },
    {
      "cell_type": "markdown",
      "source": [
        "<h3>1. defaultdict</h3>\n",
        "Imagine that you’re trying to count the words in a document. An obvious\n",
        "approach is to create a dictionary in which the keys are words and the\n",
        "values are counts. As you check each word, you can increment its count if\n",
        "it’s already in the dictionary and add it to the dictionary if it’s not:"
      ],
      "metadata": {
        "id": "N8E_OH1tG5oC"
      }
    },
    {
      "cell_type": "code",
      "source": [
        "document = \"This is some document opened in the reading mode and .read() function was used on that\"\n",
        "word_counts = {}\n",
        "for word in document:\n",
        "  if word in word_counts:\n",
        "    word_counts[word] += 1\n",
        "  else:\n",
        "    word_counts[word] = 1"
      ],
      "metadata": {
        "id": "eFeNfQsQHKZ2"
      },
      "execution_count": null,
      "outputs": []
    },
    {
      "cell_type": "markdown",
      "source": [
        "another approach is"
      ],
      "metadata": {
        "id": "tjDCbVUmH2R0"
      }
    },
    {
      "cell_type": "code",
      "source": [
        "word_counts = {}\n",
        "for word in document:\n",
        "  previous_count = word_counts.get(word, 0)\n",
        "  word_counts[word] = previous_count + 1"
      ],
      "metadata": {
        "id": "pzaSniw0H4qf"
      },
      "execution_count": null,
      "outputs": []
    },
    {
      "cell_type": "markdown",
      "source": [
        "Every one of these is slightly unwieldy, which is why defaultdict is\n",
        "useful. A defaultdict is like a regular dictionary, except that when you try\n",
        "to look up a key it doesn’t contain, it first adds a value for it using a zero-argument function you provided when you created it. In order to use\n",
        "defaultdict s, you have to import them from collections:"
      ],
      "metadata": {
        "id": "cb6RxowjH-L1"
      }
    },
    {
      "cell_type": "code",
      "source": [
        "from collections import defaultdict\n",
        "word_counts = defaultdict(int)\n",
        " # int() produces 0\n",
        "for word in document:\n",
        "  word_counts[word] += 1"
      ],
      "metadata": {
        "id": "mot0PCceH8Pv"
      },
      "execution_count": null,
      "outputs": []
    },
    {
      "cell_type": "markdown",
      "source": [
        "They can also be useful with list or dict, or even your own functions:"
      ],
      "metadata": {
        "id": "Y6vBxnOqIJZ9"
      }
    },
    {
      "cell_type": "code",
      "source": [
        "dd_list = defaultdict(list)               # list() produces an empty list\n",
        "dd_list[2].append(1)                      # now dd_list contains {2: [1]}\n",
        "dd_dict = defaultdict(dict)               # dict() produces an empty dict\n",
        "dd_dict[\"Joel\"][\"City\"] = \"Seattle\"       # {\"Joel\" : {\"City\": Seattle\"}}\n",
        "dd_pair = defaultdict(lambda: [0, 0])\n",
        "dd_pair[2][1] = 1                         # now dd_pair contains {2: [0, 1]}"
      ],
      "metadata": {
        "id": "OCVarYoaKcZk"
      },
      "execution_count": null,
      "outputs": []
    },
    {
      "cell_type": "markdown",
      "source": [
        "<h3>2. Counters</h3>\n",
        "A Counter turns a sequence of values into a defaultdict(int)-like object\n",
        "mapping keys to counts:"
      ],
      "metadata": {
        "id": "LHGlAnShK468"
      }
    },
    {
      "cell_type": "code",
      "source": [
        "from collections import Counter\n",
        "c = Counter([0, 1, 2, 0])         # c is (basically) {0: 2, 1: 1, 2: 1}"
      ],
      "metadata": {
        "id": "tQOtdXlHLCOY"
      },
      "execution_count": null,
      "outputs": []
    },
    {
      "cell_type": "markdown",
      "source": [
        "This gives a very simple way to solve the word count problem"
      ],
      "metadata": {
        "id": "jcijzpvaLoUp"
      }
    },
    {
      "cell_type": "code",
      "source": [
        "# recall, document is a list of words\n",
        "word_counts = Counter(document)"
      ],
      "metadata": {
        "id": "FDdQKpa1Ll7H"
      },
      "execution_count": null,
      "outputs": []
    },
    {
      "cell_type": "markdown",
      "source": [
        "A Counter instance has a most_common method that is frequently useful:"
      ],
      "metadata": {
        "id": "WV4Q39okLtVs"
      }
    },
    {
      "cell_type": "code",
      "source": [
        "# print the 10 most common words and their counts\n",
        "for word, count in word_counts.most_common(10):\n",
        "  print(word, count)"
      ],
      "metadata": {
        "id": "SX150A95Lsue"
      },
      "execution_count": null,
      "outputs": []
    },
    {
      "cell_type": "markdown",
      "source": [
        "<h3>3. Sets</h3>\n",
        "Another useful data structure is set, which represents a collection of distinct\n",
        "elements. You can define a set by listing its elements between curly braces:"
      ],
      "metadata": {
        "id": "5I_oQBGXMCyv"
      }
    },
    {
      "cell_type": "code",
      "source": [
        "primes_below_10 = {2, 3, 5, 7}"
      ],
      "metadata": {
        "id": "58AQS0HmMLhB"
      },
      "execution_count": null,
      "outputs": []
    },
    {
      "cell_type": "markdown",
      "source": [
        "However, that doesn’t work for empty sets, as {} already means “empty\n",
        "dict.” In that case you’ll need to use set() itself:"
      ],
      "metadata": {
        "id": "AJVcBJoZMPAE"
      }
    },
    {
      "cell_type": "code",
      "source": [
        "s = set()\n",
        "s.add(1)\n",
        "s.add(2)\n",
        "s.add(2)\n",
        "x = len(s)\n",
        "y = 2 in s\n",
        "z = 3 in s"
      ],
      "metadata": {
        "id": "g2tMpLlKMR4X"
      },
      "execution_count": null,
      "outputs": []
    },
    {
      "cell_type": "markdown",
      "source": [
        "We’ll use sets for two main reasons. The first is that in is a very fast\n",
        "operation on sets. If we have a large collection of items that we want to use\n",
        "for a membership test, a set is more appropriate than a list:"
      ],
      "metadata": {
        "id": "skEaC2yuMZyX"
      }
    },
    {
      "cell_type": "code",
      "source": [
        "hundreds_of_other_words = [\"This will have a list of all stopwords\"]\n",
        "stopwords_list = [\"a\", \"an\", \"at\"] + hundreds_of_other_words + [\"yet\", \"you\"]\n",
        "\"zip\" in stopwords_list\n",
        " # False, but have to check every element\n",
        "stopwords_set = set(stopwords_list)\n",
        "\"zip\" in stopwords_set\n",
        " # very fast to check"
      ],
      "metadata": {
        "id": "min4DuECMZU_"
      },
      "execution_count": null,
      "outputs": []
    },
    {
      "cell_type": "markdown",
      "source": [
        "The second reason is to find the distinct items in a collection:"
      ],
      "metadata": {
        "id": "Q-mkDeOeMxJu"
      }
    },
    {
      "cell_type": "code",
      "source": [
        "item_list = [1, 2, 3, 1, 2, 3]\n",
        "num_items = len(item_list)\n",
        "item_set = set(item_list)\n",
        "num_distinct_items = len(item_set)\n",
        "distinct_item_list = list(item_set)\n",
        "\n",
        "print(\"number of items in the list:\", num_items)\n",
        "print(\"number of distint items in the list\", num_distinct_items)"
      ],
      "metadata": {
        "id": "MQVIcUYqMzh1"
      },
      "execution_count": null,
      "outputs": []
    }
  ]
}