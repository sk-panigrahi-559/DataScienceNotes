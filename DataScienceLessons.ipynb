{
  "nbformat": 4,
  "nbformat_minor": 0,
  "metadata": {
    "colab": {
      "provenance": [],
      "authorship_tag": "ABX9TyMR2bkzEarj2eERpqNQBkgv",
      "include_colab_link": true
    },
    "kernelspec": {
      "name": "python3",
      "display_name": "Python 3"
    },
    "language_info": {
      "name": "python"
    }
  },
  "cells": [
    {
      "cell_type": "markdown",
      "metadata": {
        "id": "view-in-github",
        "colab_type": "text"
      },
      "source": [
        "<a href=\"https://colab.research.google.com/github/sk-panigrahi-559/DataScienceNotes/blob/main/DataScienceLessons.ipynb\" target=\"_parent\"><img src=\"https://colab.research.google.com/assets/colab-badge.svg\" alt=\"Open In Colab\"/></a>"
      ]
    },
    {
      "cell_type": "markdown",
      "source": [
        "<h1>Notes from - Data Science from Scratch</h1>\n",
        "<h2>Data Scientist at \"Data Sciencester\"</h2>\n",
        "DataSciencester is a social network for data scientists. And the author wants us to pretend that we are hired by the company."
      ],
      "metadata": {
        "id": "7RL6D9GFq9lr"
      }
    },
    {
      "cell_type": "markdown",
      "source": [
        "the following is a list of users with their user ID and names. And the next one is a list of friends connections."
      ],
      "metadata": {
        "id": "NJji01TIr9op"
      }
    },
    {
      "cell_type": "code",
      "execution_count": 1,
      "metadata": {
        "id": "Lcbq4n0U8d1P"
      },
      "outputs": [],
      "source": [
        "users = [\n",
        "{ \"id\": 0, \"name\": \"Hero\" },\n",
        "{ \"id\": 1, \"name\": \"Dunn\" },\n",
        "{ \"id\": 2, \"name\": \"Sue\" },\n",
        "{ \"id\": 3, \"name\": \"Chi\" },\n",
        "{ \"id\": 4, \"name\": \"Thor\" },\n",
        "{ \"id\": 5, \"name\": \"Clive\" },\n",
        "{ \"id\": 6, \"name\": \"Hicks\" },\n",
        "{ \"id\": 7, \"name\": \"Devin\" },\n",
        "{ \"id\": 8, \"name\": \"Kate\" },\n",
        "{ \"id\": 9, \"name\": \"Klein\" }\n",
        "]"
      ]
    },
    {
      "cell_type": "code",
      "source": [
        "friendship_pairs = [(0, 1), (0, 2), (1, 2), (1, 3), (2, 3), (3, 4),\n",
        "(4, 5), (5, 6), (5, 7), (6, 8), (7, 8), (8, 9)]"
      ],
      "metadata": {
        "id": "FgxL8shOsPoL"
      },
      "execution_count": 3,
      "outputs": []
    },
    {
      "cell_type": "markdown",
      "source": [
        "This is not a very easy to handle the connections this way. So we decided to prepare a list"
      ],
      "metadata": {
        "id": "vfPz501msSnI"
      }
    },
    {
      "cell_type": "code",
      "source": [
        "# Initializing the dictionary\n",
        "friendships = {user[\"id\"]:[] for user in users}\n",
        "# In the book the above one liner is used one can also do:\n",
        "# friendships ={}\n",
        "# for user in users:\n",
        "#   friendships[user[\"id\"]] = []\n",
        "\n",
        "for i, j in friendship_pairs:\n",
        "  friendships[i].append(j)\n",
        "  friendships[j].append(i)\n",
        "\n",
        "# Now we have all the friendship connection in a dictionary\n"
      ],
      "metadata": {
        "id": "2k3Yv2vdsork"
      },
      "execution_count": 4,
      "outputs": []
    },
    {
      "cell_type": "markdown",
      "source": [
        "Now since we have this dictionary we can do a lot of things with it; Ex:"
      ],
      "metadata": {
        "id": "8VD67WEPubPi"
      }
    },
    {
      "cell_type": "code",
      "source": [
        "# No. of friends a user has\n",
        "def number_of_friends(user):\n",
        "  user_id = user[\"id\"]\n",
        "  friend_ids = friendships[user_id]\n",
        "  return len(friend_ids)\n",
        "\n",
        "# Total no. of connections\n",
        "total_connections = sum(number_of_friends(user) for user in users)\n",
        "\n",
        "# Average number of connections\n",
        "avg_connections = total_connections / len(users)\n",
        "\n",
        "# Also most connected people - largest number of friends"
      ],
      "metadata": {
        "id": "YnIIm0_Jub1j"
      },
      "execution_count": 6,
      "outputs": []
    },
    {
      "cell_type": "markdown",
      "source": [
        "Now Just like facebook, we want the users to know the friends of their friends; so we write the followig code to know that."
      ],
      "metadata": {
        "id": "ea3lPJi9x5CU"
      }
    },
    {
      "cell_type": "code",
      "source": [
        "def foaf_ids(user):\n",
        "  return [foaf_id for friend_id in friendships[user[\"id\"]] for foaf_id in friendships[friend_id]]"
      ],
      "metadata": {
        "id": "eAPVqkKqyKLI"
      },
      "execution_count": 7,
      "outputs": []
    },
    {
      "cell_type": "markdown",
      "source": [
        "but if we try to get it for the users[0] what do we see?"
      ],
      "metadata": {
        "id": "vCmoMeudzHGM"
      }
    },
    {
      "cell_type": "code",
      "source": [
        "foaf_ids(users[0])"
      ],
      "metadata": {
        "colab": {
          "base_uri": "https://localhost:8080/"
        },
        "id": "zEeVTYLvzN4v",
        "outputId": "8a6d1e62-08a5-4df8-a1d2-a306fbbc7985"
      },
      "execution_count": 8,
      "outputs": [
        {
          "output_type": "execute_result",
          "data": {
            "text/plain": [
              "[0, 2, 3, 0, 1, 3]"
            ]
          },
          "metadata": {},
          "execution_count": 8
        }
      ]
    },
    {
      "cell_type": "markdown",
      "source": [
        "Redundant entries and also it includes 1 and 2 which are already friends of 0. which doesn't look so usefull of a data.\n",
        "\n",
        "Abetter code will be:"
      ],
      "metadata": {
        "id": "b8JtIgIezXoS"
      }
    },
    {
      "cell_type": "code",
      "source": [
        "# so first we want to create a code for mutual friends\n",
        "from collections import Counter\n",
        "\n",
        "def friends_of_friends(user):\n",
        "  user_id = user[\"id\"]\n",
        "  return Counter(\n",
        "      foaf_id\n",
        "      for friend_id in friendships[user_id]\n",
        "      for foaf_id in friendships[friend_id]\n",
        "      if foaf_id != user_id and foaf_id not in friendships[user_id]\n",
        "  )\n",
        "\n",
        "print(friends_of_friends(users[3]))"
      ],
      "metadata": {
        "colab": {
          "base_uri": "https://localhost:8080/"
        },
        "id": "xyFQwpjXzvHm",
        "outputId": "21776216-b65e-4420-fa23-e4e42cd75019"
      },
      "execution_count": 10,
      "outputs": [
        {
          "output_type": "stream",
          "name": "stdout",
          "text": [
            "Counter({0: 2, 5: 1})\n"
          ]
        }
      ]
    },
    {
      "cell_type": "markdown",
      "source": [
        "This clearly says that 3 has two mutual friends with 0 and one mututal friend with 5."
      ],
      "metadata": {
        "id": "QFLaA38A1YBe"
      }
    },
    {
      "cell_type": "code",
      "source": [],
      "metadata": {
        "id": "vAxJN0w61pue"
      },
      "execution_count": null,
      "outputs": []
    }
  ]
}